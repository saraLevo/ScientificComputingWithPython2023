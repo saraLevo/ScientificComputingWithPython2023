{
 "cells": [
  {
   "cell_type": "markdown",
   "metadata": {},
   "source": [
    "1\\. **Reductions**\n",
    "\n",
    "Given the following matrix:\n",
    "\n",
    "```python\n",
    "m = np.arange(12).reshape((3,4))\n",
    "```\n",
    "\n",
    "   1. find the total mean\n",
    "   2. find the mean for each row and column"
   ]
  },
  {
   "cell_type": "code",
   "execution_count": 1,
   "metadata": {},
   "outputs": [
    {
     "name": "stdout",
     "output_type": "stream",
     "text": [
      "[[ 0  1  2  3]\n",
      " [ 4  5  6  7]\n",
      " [ 8  9 10 11]]\n",
      "Mean of m: 5.5\n",
      "Mean of each column: [4. 5. 6. 7.]\n",
      "Mean of each row: [1.5 5.5 9.5]\n"
     ]
    }
   ],
   "source": [
    "import numpy as np\n",
    "\n",
    "m = np.arange(12).reshape((3,4))\n",
    "print(m)\n",
    "mean_m = np.mean(m)\n",
    "print('Mean of m:',mean_m)\n",
    "mean_column = m.mean(0)\n",
    "print('Mean of each column:', mean_column)\n",
    "mean_row = m.mean(1)\n",
    "print('Mean of each row:', mean_row)"
   ]
  },
  {
   "cell_type": "markdown",
   "metadata": {},
   "source": [
    "2\\. **Outer product**\n",
    "\n",
    "Find the outer product of the following vectors:\n",
    "\n",
    "```python\n",
    "u = np.array([1, 3, 5, 7])\n",
    "v = np.array([2, 4, 6, 8])\n",
    "```\n",
    "\n",
    "Use different methods to do this:\n",
    "\n",
    "   1. Using the function `outer` in numpy\n",
    "   2. Using a nested `for` loop or a list comprehension\n",
    "   3. Using numpy broadcasting operations"
   ]
  },
  {
   "cell_type": "code",
   "execution_count": null,
   "metadata": {},
   "outputs": [],
   "source": []
  },
  {
   "cell_type": "markdown",
   "metadata": {},
   "source": [
    "3\\. **Matrix masking**\n",
    "\n",
    "Create a $10 \\times 6$ matrix of float random numbers, distributed between 0 and 3 according to a flat distribution.\n",
    "\n",
    "After creating the matrix, set all entries $< 0.3$ to zero using a mask."
   ]
  },
  {
   "cell_type": "code",
   "execution_count": null,
   "metadata": {},
   "outputs": [],
   "source": []
  },
  {
   "cell_type": "markdown",
   "metadata": {},
   "source": [
    "4\\. **Trigonometric functions**\n",
    "\n",
    "Use `np.linspace` to create an array of 100 numbers between $0$ and $2\\pi$ (inclusive).\n",
    "\n",
    "  * Extract every 10th element using the slice notation\n",
    "  * Reverse the array using the slice notation\n",
    "  * Extract elements where the absolute difference between the `sin` and `cos` functions evaluated for that element is $< 0.1$\n",
    "  * **Optional**: make a plot showing the `sin` and `cos` functions and indicate graphically (with a line or a marker) where they are close"
   ]
  },
  {
   "cell_type": "code",
   "execution_count": 2,
   "metadata": {},
   "outputs": [
    {
     "name": "stdout",
     "output_type": "stream",
     "text": [
      "[array([7])]\n",
      "3\n",
      "[1 4 7]\n",
      "[1 3 5 7 9]\n",
      "[9 8 7 6 5 4 3 2 1 0]\n"
     ]
    }
   ],
   "source": [
    "import numpy as np\n",
    "import math\n",
    "\n",
    "x = np.array([0, 1, 2, 3, 4, 5, 6, 7, 8, 9])\n",
    "\n",
    "mylist = []\n",
    "mylist.append(x[np.fabs(np.cos(x)-np.sin(x))<0.1])\n",
    "print(mylist)\n",
    "print(x[3])\n",
    "print(x[1:len(x):3])\n",
    "print(x[1:len(x):2])\n",
    "print(x[::-1])"
   ]
  },
  {
   "cell_type": "markdown",
   "metadata": {},
   "source": [
    "5\\. **Matrices**\n",
    "\n",
    "Create a matrix that shows the $10 \\times 10$ multiplication table.\n",
    "\n",
    " * Find the trace of the matrix\n",
    " * Extract the anti-diagonal matrix (this should be ```array([10, 18, 24, 28, 30, 30, 28, 24, 18, 10])```)\n",
    " * Extract the diagonal offset by 1 upwards (this should be ```array([ 2,  6, 12, 20, 30, 42, 56, 72, 90])```)"
   ]
  },
  {
   "cell_type": "code",
   "execution_count": 3,
   "metadata": {},
   "outputs": [
    {
     "name": "stdout",
     "output_type": "stream",
     "text": [
      "[[  1.   2.   3.   4.   5.   6.   7.   8.   9.  10.]\n",
      " [  2.   4.   6.   8.  10.  12.  14.  16.  18.  20.]\n",
      " [  3.   6.   9.  12.  15.  18.  21.  24.  27.  30.]\n",
      " [  4.   8.  12.  16.  20.  24.  28.  32.  36.  40.]\n",
      " [  5.  10.  15.  20.  25.  30.  35.  40.  45.  50.]\n",
      " [  6.  12.  18.  24.  30.  36.  42.  48.  54.  60.]\n",
      " [  7.  14.  21.  28.  35.  42.  49.  56.  63.  70.]\n",
      " [  8.  16.  24.  32.  40.  48.  56.  64.  72.  80.]\n",
      " [  9.  18.  27.  36.  45.  54.  63.  72.  81.  90.]\n",
      " [ 10.  20.  30.  40.  50.  60.  70.  80.  90. 100.]]\n"
     ]
    },
    {
     "data": {
      "text/plain": [
       "[2.0, 6.0, 12.0, 20.0, 30.0, 42.0, 56.0, 72.0, 90.0]"
      ]
     },
     "execution_count": 3,
     "metadata": {},
     "output_type": "execute_result"
    }
   ],
   "source": [
    "import numpy as np\n",
    "mul_table = np.fromfunction(lambda i, j: (i+1)*(j+1), (10,10))\n",
    "print(mul_table)\n",
    "\n",
    "[mul_table[i][i+1] for i in range(9)]"
   ]
  },
  {
   "cell_type": "markdown",
   "metadata": {},
   "source": [
    "6\\. **Broadcasting**\n",
    "\n",
    "Use broadcasting to create a grid of distances.\n",
    "\n",
    "Route 66 crosses the following cities in the US: Chicago, Springfield, Saint-Louis, Tulsa, Oklahoma City, Amarillo, Santa Fe, Albuquerque, Flagstaff, Los Angeles.\n",
    "\n",
    "The corresponding positions in miles are: `0, 198, 303, 736, 871, 1175, 1475, 1544, 1913, 2448`\n",
    "\n",
    "  * Build a 2D grid of distances among each city along Route 66\n",
    "  * Convert the distances in km"
   ]
  },
  {
   "cell_type": "code",
   "execution_count": 4,
   "metadata": {},
   "outputs": [
    {
     "data": {
      "text/plain": [
       "array([[ 487.63002,  168.9807 ,    0.     ,  696.84422,  914.10512,\n",
       "        1403.34448, 1886.14648, 1997.19094, 2591.0374 , 3452.0343 ],\n",
       "       [1184.47424,  865.82492,  696.84422,    0.     ,  217.2609 ,\n",
       "         706.50026, 1189.30226, 1300.34672, 1894.19318, 2755.19008],\n",
       "       [1401.73514, 1083.08582,  914.10512,  217.2609 ,    0.     ,\n",
       "         489.23936,  972.04136, 1083.08582, 1676.93228, 2537.92918],\n",
       "       [1890.9745 , 1572.32518, 1403.34448,  706.50026,  489.23936,\n",
       "           0.     ,  482.802  ,  593.84646, 1187.69292, 2048.68982],\n",
       "       [2373.7765 , 2055.12718, 1886.14648, 1189.30226,  972.04136,\n",
       "         482.802  ,    0.     ,  111.04446,  704.89092, 1565.88782],\n",
       "       [2484.82096, 2166.17164, 1997.19094, 1300.34672, 1083.08582,\n",
       "         593.84646,  111.04446,    0.     ,  593.84646, 1454.84336],\n",
       "       [3078.66742, 2760.0181 , 2591.0374 , 1894.19318, 1676.93228,\n",
       "        1187.69292,  704.89092,  593.84646,    0.     ,  860.9969 ],\n",
       "       [3939.66432, 3621.015  , 3452.0343 , 2755.19008, 2537.92918,\n",
       "        2048.68982, 1565.88782, 1454.84336,  860.9969 ,    0.     ]])"
      ]
     },
     "execution_count": 4,
     "metadata": {},
     "output_type": "execute_result"
    }
   ],
   "source": [
    "import numpy as np\n",
    "\n",
    "cities = ['Chicago', 'Springfield', 'Saint-Louis', 'Tulsa', 'Oklahoma City', 'Amarillo', 'Santa Fe', 'Albuquerque', 'Flagstaff', 'Los Angeles']\n",
    "pos = np.array([0, 198, 303, 736, 871, 1175, 1475, 1544, 1913, 2448])*1.60934\n",
    "\n",
    "distances = np.array([abs(pos[i] - pos) for i in range(2,len(pos))])\n",
    "distances \n"
   ]
  },
  {
   "cell_type": "markdown",
   "metadata": {},
   "source": [
    "7\\. **Prime numbers sieve**\n",
    "\n",
    "Compute the prime numbers in the 0-N (start with N=99) range with a sieve (mask).\n",
    "\n",
    "  * Construct a shape (N,) boolean array, which is the mask\n",
    "  * Identify the multiples of each number starting from 2 and set accordingly the corresponding mask element\n",
    "  * Apply the mask to obtain an array of ordered prime numbers\n",
    "  * Check the performances (with `timeit`); how does it scale with N?\n",
    "  * Implement the optimization suggested in the [sieve of Eratosthenes](https://en.wikipedia.org/wiki/Sieve_of_Eratosthenes)"
   ]
  },
  {
   "cell_type": "code",
   "execution_count": 5,
   "metadata": {},
   "outputs": [
    {
     "name": "stdout",
     "output_type": "stream",
     "text": [
      "Time taken to find the prime numbers up to 99: 0.003940105438232422\n",
      "Time taken to find the prime numbers up to 99 with Eratosthenes sieve: 0.0004432201385498047\n"
     ]
    }
   ],
   "source": [
    "import numpy as np\n",
    "import time\n",
    "import math\n",
    "\n",
    "def isPrime(x):\n",
    "    if x <= 1:\n",
    "        return False\n",
    "    for i in range(2,x):\n",
    "        if x%i==0:\n",
    "            return False\n",
    "    return True\n",
    "\n",
    "t0 = time.time()\n",
    "x = np.arange(1,99)\n",
    "N = np.zeros_like(x, dtype=bool)\n",
    "\n",
    "for j in range(len(x)):\n",
    "    N[j] = isPrime(x[j])\n",
    "\n",
    "numpy_N = np.array(N)\n",
    "prime_num = x[N]\n",
    "t1 = time.time()\n",
    "print('Time taken to find the prime numbers up to 99:', t1-t0)\n",
    "\n",
    "\n",
    "t2 = time.time()\n",
    "N1 = np.array([True for i in range(len(x))])\n",
    "\n",
    "for i in range(2, int(math.sqrt(len(x)))+1):\n",
    "    if N1[i] == True:\n",
    "        j = np.arange(i**2, len(x), i)\n",
    "        N1[j] = False\n",
    "\n",
    "prime_num_erato = np.where(N1)[0]\n",
    "t3 = time.time()\n",
    "print('Time taken to find the prime numbers up to 99 with Eratosthenes sieve:',t3-t2)\n"
   ]
  },
  {
   "cell_type": "markdown",
   "metadata": {},
   "source": [
    "8\\. **Diffusion using random walk**\n",
    "\n",
    "Consider a simple random walk process: at each step in time, a walker jumps right or left (+1 or -1) with equal probability. The goal is to find the typical distance from the origin of many random walkers after a given amount of time.\n",
    "\n",
    "*Hint*: create a 2D array where each row represents a walker, and each column represents a time step.\n",
    "\n",
    "  * Take 1000 walkers and let them walk for 200 steps\n",
    "  * Use `randint` to create a 2D array of size $walkers \\times steps$ with values -1 or 1\n",
    "  * Calculate the walking distances for each walker (e.g. by summing the elements in each row)\n",
    "  * Take the square of the previously-obtained array (element-wise)\n",
    "  * Compute the mean of the squared distances at each step (i.e. the mean along the columns)\n",
    "  * **Optional**: plot the average distances ($\\sqrt(distance^2)$) as a function of time (step)"
   ]
  },
  {
   "cell_type": "code",
   "execution_count": 26,
   "metadata": {},
   "outputs": [
    {
     "name": "stdout",
     "output_type": "stream",
     "text": [
      "[[1 1 0 ... 0 0 1]\n",
      " [1 0 1 ... 0 1 1]\n",
      " [0 1 0 ... 0 1 0]\n",
      " ...\n",
      " [1 1 1 ... 1 0 1]\n",
      " [0 1 0 ... 0 1 1]\n",
      " [1 0 0 ... 1 0 0]]\n",
      "[[ 1  1 -1 ... -1 -1  1]\n",
      " [ 1 -1  1 ... -1  1  1]\n",
      " [-1  1 -1 ... -1  1 -1]\n",
      " ...\n",
      " [ 1  1  1 ...  1 -1  1]\n",
      " [-1  1 -1 ... -1  1  1]\n",
      " [ 1 -1 -1 ...  1 -1 -1]]\n"
     ]
    },
    {
     "ename": "ValueError",
     "evalue": "cannot reshape array of size 1000 into shape (1000,200)",
     "output_type": "error",
     "traceback": [
      "\u001b[0;31m---------------------------------------------------------------------------\u001b[0m",
      "\u001b[0;31mValueError\u001b[0m                                Traceback (most recent call last)",
      "Cell \u001b[0;32mIn[26], line 21\u001b[0m\n\u001b[1;32m     18\u001b[0m \u001b[38;5;28mprint\u001b[39m(rd)\n\u001b[1;32m     20\u001b[0m walking_dist \u001b[38;5;241m=\u001b[39m np\u001b[38;5;241m.\u001b[39marray(temp\u001b[38;5;241m.\u001b[39msum(axis\u001b[38;5;241m=\u001b[39m\u001b[38;5;241m1\u001b[39m))\u001b[38;5;241m*\u001b[39m\u001b[38;5;241m*\u001b[39m\u001b[38;5;241m2\u001b[39m\n\u001b[0;32m---> 21\u001b[0m walking_dist \u001b[38;5;241m=\u001b[39m \u001b[43mwalking_dist\u001b[49m\u001b[38;5;241;43m.\u001b[39;49m\u001b[43mreshape\u001b[49m\u001b[43m(\u001b[49m\u001b[43m(\u001b[49m\u001b[38;5;241;43m1000\u001b[39;49m\u001b[43m,\u001b[49m\u001b[38;5;241;43m200\u001b[39;49m\u001b[43m)\u001b[49m\u001b[43m)\u001b[49m\n\u001b[1;32m     22\u001b[0m walking_dist\u001b[38;5;241m.\u001b[39msize\n",
      "\u001b[0;31mValueError\u001b[0m: cannot reshape array of size 1000 into shape (1000,200)"
     ]
    }
   ],
   "source": [
    "import numpy.random as npr\n",
    "import numpy as np\n",
    "\n",
    "temp = npr.randint(2, size=(1000, 200))\n",
    "print(temp)\n",
    "\n",
    "#rd = np.zeros((1000,200))\n",
    "#for i in range(1000):\n",
    "#    for j in range(200):\n",
    "#        if temp[i,j] == 0:\n",
    "#            rd[i,j] = -1\n",
    "#        else:\n",
    "#            rd[i,j] = temp[i,j]\n",
    "\n",
    "\n",
    "rd = np.array([temp[i, j] - 1 if temp[i,j] == 0 else temp[i,j] for i in range(1000) for j in range(200)])\n",
    "rd = rd.reshape((1000,200))\n",
    "print(rd)\n",
    "\n",
    "walking_dist = np.array(temp.sum(axis=1))**2\n",
    "walking_dist.size\n"
   ]
  },
  {
   "cell_type": "code",
   "execution_count": null,
   "metadata": {},
   "outputs": [],
   "source": []
  },
  {
   "cell_type": "code",
   "execution_count": null,
   "metadata": {},
   "outputs": [],
   "source": []
  }
 ],
 "metadata": {
  "kernelspec": {
   "display_name": "Python 3 (ipykernel)",
   "language": "python",
   "name": "python3"
  },
  "language_info": {
   "codemirror_mode": {
    "name": "ipython",
    "version": 3
   },
   "file_extension": ".py",
   "mimetype": "text/x-python",
   "name": "python",
   "nbconvert_exporter": "python",
   "pygments_lexer": "ipython3",
   "version": "3.10.12"
  }
 },
 "nbformat": 4,
 "nbformat_minor": 4
}
